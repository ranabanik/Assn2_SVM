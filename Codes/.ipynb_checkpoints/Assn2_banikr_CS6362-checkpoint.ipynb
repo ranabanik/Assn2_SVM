{
 "cells": [
  {
   "cell_type": "markdown",
   "metadata": {},
   "source": [
    "# CS6362-01 Advanced Machine Learning(2019F)\n",
    "**Assignment 2: Support Vector Classification** <br> \n",
    "by Rana Banik"
   ]
  },
  {
   "cell_type": "markdown",
   "metadata": {},
   "source": [
    "**Dataset**: make_moon data from sklearn <br>\n",
    "In this SVC Gaussian RBF kernel[1] will be used:"
   ]
  },
  {
   "cell_type": "markdown",
   "metadata": {},
   "source": [
    ">$$ Kernel_{rbf} = e^{(-γ||x_1 - x_2||^2)} $$ "
   ]
  },
  {
   "cell_type": "markdown",
   "metadata": {},
   "source": [
    "<img src = \"../Images/moons_data.png\" style=\"width:500px;height:400px\">\n",
    "<img src = \"../Images/moons_data_3D.png\">"
   ]
  },
  {
   "cell_type": "markdown",
   "metadata": {},
   "source": [
    "**Dataset**: The data is from `sklearn`'s `datasets` class and called `make_moons`function. The above figures are 2000 samples of the data with 10% noise[2]. "
   ]
  },
  {
   "cell_type": "markdown",
   "metadata": {},
   "source": [
    "<img src = \"../Images/noisy_data2.png\" style=\"width:800px;height:400px\">"
   ]
  },
  {
   "cell_type": "markdown",
   "metadata": {},
   "source": [
    "For this assignment, two separate data sets will be generated as `train_set` and `test_set` each having 200 and 2000 data points with 40% noise. The two sets are shown in scatter plots above. "
   ]
  },
  {
   "cell_type": "markdown",
   "metadata": {},
   "source": [
    "A soft-margin SVM with an RBF kernel requires two parameters, C and γ. To find the best fit, at least five values per order-of-magnitude (i.e., per factor-of-ten) were taken in equal log space for both C and γ. For each combination of\n",
    "values of C and γ, fit an SVM to the training data and evaluate its test error. <br>\n",
    "best, `C0` = 1.0 <br>\n",
    "best, `γ0` = 1.0 <br>\n",
    "best test error = 13.3% <br>\n",
    "The decision boundary with lowest test error is shown below in contour plot:  "
   ]
  },
  {
   "cell_type": "markdown",
   "metadata": {},
   "source": [
    "<img src = \"../Images/lowest_test_error_df2.png\">"
   ]
  },
  {
   "cell_type": "markdown",
   "metadata": {},
   "source": [
    "The value of γ is fixed at γ = `γ0` and 100 different values of `log(C)` equally spaced between `log(C0)-3` to `log(C0)+3`. For each value of C the SVM models were fitted with `train_set`. The distribution of C is given in normal scale and logarithmic scale. The values of C are evenly distributed in the log scale. \n",
    "<img src = \"../Images/C_even_spaced.png\"> \n",
    "Two separate curves were generated based on the train error and test error, which is given below: <br>"
   ]
  },
  {
   "cell_type": "markdown",
   "metadata": {},
   "source": [
    "<img src = \"../Images/traintestError_vs_logC2.png\">"
   ]
  },
  {
   "cell_type": "markdown",
   "metadata": {},
   "source": [
    "**Explanation:** From the curves above it can be seen that the model generalizes well in test set when C = 1.0, which is the optimum tuning of the model. Before that both train and test error keeps decreasing. After log(C) threshold the model starts to overfit and starts to model the noises in the train set. Thus train error decreases significantly and test error keeps increasing. "
   ]
  },
  {
   "cell_type": "markdown",
   "metadata": {},
   "source": [
    "### Plotting for different C: <br>"
   ]
  },
  {
   "cell_type": "markdown",
   "metadata": {},
   "source": [
    "This phenomena can also be seen in the following graphs. As the value of C increases the decision boundary becomes more complex and deforms to nonlinear pattern to classify maximum points. "
   ]
  },
  {
   "cell_type": "markdown",
   "metadata": {},
   "source": [
    "7 contour plots of the decision function for different values of C. _The\n",
    "plots should highlight the decision boundaries, but not the margins_"
   ]
  },
  {
   "cell_type": "markdown",
   "metadata": {},
   "source": [
    "<img src = \"../Images/c_vary_df2.png\">"
   ]
  },
  {
   "cell_type": "markdown",
   "metadata": {},
   "source": [
    "With increasing of parameter C means the model starts giving importance to individual data points, which in terms increases the influence of each datapoint on the decision boundary. Thus as the C increases and reaches optimum value training error is high but test error is lowest since the model is generalized. But after that the model starts to overfit and becomes more complex which increases test error and decreases train error. A small C means a very restricted model where each data point can only have very limited influence. Increasing C means these data points can have a stronger influence and makes the decision boundary bend to classify them[4]"
   ]
  },
  {
   "cell_type": "markdown",
   "metadata": {},
   "source": [
    "<img src = \"../Images/traintestError_vs_gamma2.png\">"
   ]
  },
  {
   "cell_type": "markdown",
   "metadata": {},
   "source": [
    "**Explanation:** The train and test error tends to decrease as γ increases. The test error becomes lowest in γ = 1.0 where the model is optimized for the data being used. After that overfitting on the training set starts and train error keeps reducing. Contrarily, the model loses it's generalization and test error increases largely. "
   ]
  },
  {
   "cell_type": "markdown",
   "metadata": {},
   "source": [
    "### Plotting for different γ: <br>\n",
    "The similar effect of increasing C is also inspected in increasing γ. If γ increases the radius of Gaussian RBF kernel reduces exponentially. That in turns creates clustered decision boundary rather that linear/non-linear one. Thus if γ increases the model complexity increases. So the model is more generalized at γ0. After that testing error increases and since model starts to overfit the training error decreases. "
   ]
  },
  {
   "cell_type": "markdown",
   "metadata": {},
   "source": [
    "<img src = \"../Images/γ_vary_df2.png\">"
   ]
  },
  {
   "cell_type": "markdown",
   "metadata": {},
   "source": [
    "7 contour plots of the decision function for different values of γ are shown above. We respectively increase the value of γ from 0.0010 to 1000.0. A small γ means a large radius for the Gaussian kernel, which means many points are considered close by. This is reflected by very smooth decision boundaries in top plots. A low value of γ means the the decision boundary will vary slowly, which yields model of low complexity. On the other hand a high value of γ yields a more complex model[4]. "
   ]
  },
  {
   "cell_type": "markdown",
   "metadata": {},
   "source": [
    "### Reference:\n"
   ]
  },
  {
   "cell_type": "markdown",
   "metadata": {},
   "source": [
    " 1. T. Hastie, R. Tibshirani, and J. Friedman, The Elements of Statistical Learning Data Mining, Inference, and Prediction (12th printing). Springer, 2017.<br>\n",
    " 2. “SUPPORT VECTOR MACHINES(SVM) - Towards Data Science.”\n",
    " 3. Introduction to data mining, P.-N. Tan, M. Steinbach, A. Karpatne, and V. Kumar. \n",
    " 4. “Introduction to Machine Learning with Python: A Guide for Data Scientists - Andreas C. Müller, Muller Andreas C, Sarah Guido - Google Books.”\n",
    " 5. “RBF SVM parameters — scikit-learn 0.21.3 documentation.” [Online]. Available: https://scikit-learn.org/stable/auto_examples/svm/plot_rbf_parameters.html. "
   ]
  },
  {
   "cell_type": "code",
   "execution_count": 13,
   "metadata": {},
   "outputs": [],
   "source": [
    "import numpy as np\n",
    "import matplotlib.pyplot as plt"
   ]
  },
  {
   "cell_type": "code",
   "execution_count": 13,
   "metadata": {},
   "outputs": [],
   "source": [
    "c_list = np.array([])"
   ]
  },
  {
   "cell_type": "code",
   "execution_count": 16,
   "metadata": {},
   "outputs": [
    {
     "data": {
      "text/plain": [
       "array([1.0e-03, 2.8e-03, 4.6e-03, 6.4e-03, 8.2e-03, 1.0e-02, 2.8e-02,\n",
       "       4.6e-02, 6.4e-02, 8.2e-02, 1.0e-01, 2.8e-01, 4.6e-01, 6.4e-01,\n",
       "       8.2e-01, 1.0e+00, 2.8e+00, 4.6e+00, 6.4e+00, 8.2e+00, 1.0e+01,\n",
       "       2.8e+01, 4.6e+01, 6.4e+01, 8.2e+01, 1.0e+02, 2.8e+02, 4.6e+02,\n",
       "       6.4e+02, 8.2e+02, 1.0e+03, 2.8e+03, 4.6e+03, 6.4e+03, 8.2e+03])"
      ]
     },
     "execution_count": 16,
     "metadata": {},
     "output_type": "execute_result"
    }
   ],
   "source": [
    "for i in range(-3,4):\n",
    "    c_list = np.append(c_list, np.linspace(10**i, 10**(i+1), num=5, endpoint=False))\n",
    "c_list"
   ]
  },
  {
   "cell_type": "code",
   "execution_count": 9,
   "metadata": {},
   "outputs": [
    {
     "data": {
      "text/plain": [
       "array([1.00000000e-03, 1.14975700e-03, 1.32194115e-03, 1.51991108e-03,\n",
       "       1.74752840e-03, 2.00923300e-03, 2.31012970e-03, 2.65608778e-03,\n",
       "       3.05385551e-03, 3.51119173e-03, 4.03701726e-03, 4.64158883e-03,\n",
       "       5.33669923e-03, 6.13590727e-03, 7.05480231e-03, 8.11130831e-03,\n",
       "       9.32603347e-03, 1.07226722e-02, 1.23284674e-02, 1.41747416e-02,\n",
       "       1.62975083e-02, 1.87381742e-02, 2.15443469e-02, 2.47707636e-02,\n",
       "       2.84803587e-02, 3.27454916e-02, 3.76493581e-02, 4.32876128e-02,\n",
       "       4.97702356e-02, 5.72236766e-02, 6.57933225e-02, 7.56463328e-02,\n",
       "       8.69749003e-02, 1.00000000e-01, 1.14975700e-01, 1.32194115e-01,\n",
       "       1.51991108e-01, 1.74752840e-01, 2.00923300e-01, 2.31012970e-01,\n",
       "       2.65608778e-01, 3.05385551e-01, 3.51119173e-01, 4.03701726e-01,\n",
       "       4.64158883e-01, 5.33669923e-01, 6.13590727e-01, 7.05480231e-01,\n",
       "       8.11130831e-01, 9.32603347e-01, 1.07226722e+00, 1.23284674e+00,\n",
       "       1.41747416e+00, 1.62975083e+00, 1.87381742e+00, 2.15443469e+00,\n",
       "       2.47707636e+00, 2.84803587e+00, 3.27454916e+00, 3.76493581e+00,\n",
       "       4.32876128e+00, 4.97702356e+00, 5.72236766e+00, 6.57933225e+00,\n",
       "       7.56463328e+00, 8.69749003e+00, 1.00000000e+01, 1.14975700e+01,\n",
       "       1.32194115e+01, 1.51991108e+01, 1.74752840e+01, 2.00923300e+01,\n",
       "       2.31012970e+01, 2.65608778e+01, 3.05385551e+01, 3.51119173e+01,\n",
       "       4.03701726e+01, 4.64158883e+01, 5.33669923e+01, 6.13590727e+01,\n",
       "       7.05480231e+01, 8.11130831e+01, 9.32603347e+01, 1.07226722e+02,\n",
       "       1.23284674e+02, 1.41747416e+02, 1.62975083e+02, 1.87381742e+02,\n",
       "       2.15443469e+02, 2.47707636e+02, 2.84803587e+02, 3.27454916e+02,\n",
       "       3.76493581e+02, 4.32876128e+02, 4.97702356e+02, 5.72236766e+02,\n",
       "       6.57933225e+02, 7.56463328e+02, 8.69749003e+02, 1.00000000e+03])"
      ]
     },
     "execution_count": 9,
     "metadata": {},
     "output_type": "execute_result"
    }
   ],
   "source": [
    "c_list"
   ]
  },
  {
   "cell_type": "code",
   "execution_count": 10,
   "metadata": {},
   "outputs": [],
   "source": [
    "c_list = np.power(10, np.linspace(-3, 3, num=100))\n",
    "C0 = 1\n",
    "c_list_ = np.logspace(np.log10(C0)-3,np.log10(C0)+3,num=100,endpoint=True,base=10)"
   ]
  },
  {
   "cell_type": "code",
   "execution_count": 11,
   "metadata": {},
   "outputs": [
    {
     "data": {
      "text/plain": [
       "array([1.00000000e-03, 1.14975700e-03, 1.32194115e-03, 1.51991108e-03,\n",
       "       1.74752840e-03, 2.00923300e-03, 2.31012970e-03, 2.65608778e-03,\n",
       "       3.05385551e-03, 3.51119173e-03, 4.03701726e-03, 4.64158883e-03,\n",
       "       5.33669923e-03, 6.13590727e-03, 7.05480231e-03, 8.11130831e-03,\n",
       "       9.32603347e-03, 1.07226722e-02, 1.23284674e-02, 1.41747416e-02,\n",
       "       1.62975083e-02, 1.87381742e-02, 2.15443469e-02, 2.47707636e-02,\n",
       "       2.84803587e-02, 3.27454916e-02, 3.76493581e-02, 4.32876128e-02,\n",
       "       4.97702356e-02, 5.72236766e-02, 6.57933225e-02, 7.56463328e-02,\n",
       "       8.69749003e-02, 1.00000000e-01, 1.14975700e-01, 1.32194115e-01,\n",
       "       1.51991108e-01, 1.74752840e-01, 2.00923300e-01, 2.31012970e-01,\n",
       "       2.65608778e-01, 3.05385551e-01, 3.51119173e-01, 4.03701726e-01,\n",
       "       4.64158883e-01, 5.33669923e-01, 6.13590727e-01, 7.05480231e-01,\n",
       "       8.11130831e-01, 9.32603347e-01, 1.07226722e+00, 1.23284674e+00,\n",
       "       1.41747416e+00, 1.62975083e+00, 1.87381742e+00, 2.15443469e+00,\n",
       "       2.47707636e+00, 2.84803587e+00, 3.27454916e+00, 3.76493581e+00,\n",
       "       4.32876128e+00, 4.97702356e+00, 5.72236766e+00, 6.57933225e+00,\n",
       "       7.56463328e+00, 8.69749003e+00, 1.00000000e+01, 1.14975700e+01,\n",
       "       1.32194115e+01, 1.51991108e+01, 1.74752840e+01, 2.00923300e+01,\n",
       "       2.31012970e+01, 2.65608778e+01, 3.05385551e+01, 3.51119173e+01,\n",
       "       4.03701726e+01, 4.64158883e+01, 5.33669923e+01, 6.13590727e+01,\n",
       "       7.05480231e+01, 8.11130831e+01, 9.32603347e+01, 1.07226722e+02,\n",
       "       1.23284674e+02, 1.41747416e+02, 1.62975083e+02, 1.87381742e+02,\n",
       "       2.15443469e+02, 2.47707636e+02, 2.84803587e+02, 3.27454916e+02,\n",
       "       3.76493581e+02, 4.32876128e+02, 4.97702356e+02, 5.72236766e+02,\n",
       "       6.57933225e+02, 7.56463328e+02, 8.69749003e+02, 1.00000000e+03])"
      ]
     },
     "execution_count": 11,
     "metadata": {},
     "output_type": "execute_result"
    }
   ],
   "source": [
    "c_list_"
   ]
  },
  {
   "cell_type": "code",
   "execution_count": 17,
   "metadata": {},
   "outputs": [
    {
     "data": {
      "text/plain": [
       "[<matplotlib.lines.Line2D at 0x21147d8a438>]"
      ]
     },
     "execution_count": 17,
     "metadata": {},
     "output_type": "execute_result"
    },
    {
     "data": {
      "image/png": "[encoded data removed]",
      "text/plain": [
       "<Figure size 432x288 with 1 Axes>"
      ]
     },
     "metadata": {
      "needs_background": "light"
     },
     "output_type": "display_data"
    }
   ],
   "source": [
    "plt.plot(c_list_)\n",
    "# plt.plot(np.log10(c_list_))"
   ]
  },
  {
   "cell_type": "markdown",
   "metadata": {},
   "source": [
    "**Code:**"
   ]
  },
  {
   "cell_type": "code",
   "execution_count": 2,
   "metadata": {},
   "outputs": [
    {
     "name": "stderr",
     "output_type": "stream",
     "text": [
      "UsageError: Line magic function `%matplotlib.inline` not found.\n"
     ]
    }
   ],
   "source": [
    "from sklearn.svm import SVC\n",
    "from sklearn import datasets\n",
    "import matplotlib.pyplot as plt\n",
    "import numpy as np\n",
    "import pickle\n",
    "import os\n",
    "from bonnerLib import dfContour, df3D\n",
    "# %matplotlib.inline\n",
    "\n",
    "data_path = r'C:\\Data\\CS6362\\Assignment2'\n",
    "\n",
    "\"\"\"%%% Load the data %%%\"\"\"\n",
    "data = datasets.make_moons(n_samples=2000, noise=0.1)\n",
    "X,y = data\n",
    "plt.figure()\n",
    "plt.suptitle('Moons data sample')\n",
    "colors = np.array(['r','b'])\n",
    "# plt.scatter(X[:,0],X[:,1],color = colors[y],s=3)\n",
    "# plt.show()\n",
    "\n",
    "\"\"\"%%% Set Params, fit and RBF kernel %%%\"\"\"\n",
    "clf = SVC(gamma=1.0, C=1.0)\n",
    "clf.fit(X,y)\n",
    "\n",
    "\"\"\"%%% Plot figure 1 and 2\"\"\"\n",
    "dfContour(clf, data)\n",
    "df3D(clf, data)\n",
    "plt.show()\n",
    "\n",
    "\"\"\"%%% Make predictions\"\"\"\n",
    "# clf.predict(Xtest)\n",
    "# clf.decision_function(Xtest)\n",
    "\n",
    "\n",
    "print('Taking train and test data...')\n",
    "train_set = datasets.make_moons(n_samples=200, noise=0.4,random_state=1)\n",
    "train_data, train_label = train_set\n",
    "test_set = datasets.make_moons(n_samples=2000, noise=0.4,random_state=0)\n",
    "test_data, test_label = test_set\n",
    "# plt.figure()\n",
    "# plt.subplot(1, 2, 1)\n",
    "# colors = np.array(['r','b'])\n",
    "# plt.scatter(train_data[:, 0], train_data[:, 1], color=colors[train_label], s=3)\n",
    "# plt.title(\"train data\",fontsize=15)\n",
    "# plt.subplot(1, 2, 2)\n",
    "# colors = np.array(['r', 'b'])\n",
    "# plt.scatter(test_data[:, 0], test_data[:, 1], color=colors[test_label], s=3)\n",
    "# plt.title(\"test data\",fontsize=15)\n",
    "# plt.show()\n",
    "\n",
    "# print(\"save...\")\n",
    "# save_path = os.path.join(data_path,'test_set.bin')\n",
    "# # print(save_path)\n",
    "# # with open(save_path,'wb') as pfile:\n",
    "# #     pickle.dump(test_set, pfile)\n",
    "\n",
    "# print(\"loading the same set of data...\")\n",
    "# save_path = os.path.join(data_path, 'test_set.bin')\n",
    "# with open(save_path,'rb') as pfile:\n",
    "#     test_set = pickle.load(pfile)\n",
    "\n",
    "# save_path = os.path.join(data_path, 'train_set.bin')\n",
    "# with open(save_path,'rb') as pfile:\n",
    "#     train_set = pickle.load(pfile)\n",
    "\n",
    "# train_data, train_label = train_set\n",
    "# test_data, test_label = test_set\n",
    "# plt.figure()\n",
    "# plt.subplot(1, 2, 1)\n",
    "# colors = np.array(['r','b'])\n",
    "# plt.scatter(train_data[:, 0], train_data[:, 1], color=colors[train_label], s=3)\n",
    "# plt.title(\"train data\")\n",
    "# plt.subplot(1, 2, 2)\n",
    "# colors = np.array(['r', 'b'])\n",
    "# plt.scatter(test_data[:, 0], test_data[:, 1], color=colors[test_label], s=3)\n",
    "# plt.title(\"test data\")\n",
    "# plt.show()\n",
    "\n",
    "# C = np.logspace(4.0, 4.01, num=5, endpoint=True, base=10)\n",
    "# # plt.plot(np.log10(C))\n",
    "# # plt.show()\n",
    "# print(np.log10(C))\n",
    "# print(C)\n",
    "\"\"\"%%%% Greedy search %%%%\"\"\"\n",
    "# start = -4.0\n",
    "# end = -\n",
    "# n = 0\n",
    "# points = []\n",
    "#\n",
    "# while n < 10:\n",
    "#     # C = np.logspace(start, end, num=5, endpoint=False, base=10)\n",
    "#     # points.append(C)\n",
    "#     print(start, end)\n",
    "#     start = end\n",
    "#     end += 1\n",
    "#     n += 1\n",
    "#\n",
    "#\n",
    "# print(np.array(points).shape)\n",
    "# points = np.array(points).ravel()\n",
    "\n",
    "points = np.array([])\n",
    "\n",
    "for i in range(-3,4):\n",
    "    points = np.append(points, np.linspace(10**i, 10**(i+1), num=5, endpoint=True)) #doesn't need to ravel()\n",
    "\n",
    "count = 0\n",
    "accuracy_best = 0\n",
    "\n",
    "for c in points:\n",
    "    for gamma in points:\n",
    "        clf = SVC(gamma=gamma, C=c)\n",
    "        clf.fit(train_data,train_label)\n",
    "        accuracy = clf.score(test_data,test_label)\n",
    "        count += 1\n",
    "        if accuracy>accuracy_best:\n",
    "            C0 = c\n",
    "            gamma0 = gamma\n",
    "            accuracy_best = accuracy\n",
    "        else:\n",
    "            continue\n",
    "\n",
    "print(\"best fit:\", C0, gamma0, count, accuracy_best) #best fit: 1.0 1.0 1225 0.867\n",
    "#1000.0 0.09942600739529568 2500 0.87\n",
    "# plt.plot(np.log10(points))\n",
    "# plt.show()\n",
    "\n",
    "if __name__ != \"__main__\":\n",
    "    C0 = 1.0\n",
    "    gamma0 = 1.0\n",
    "    accuracy_best = 0.867\n",
    "\n",
    "\"\"\"Plot best model\"\"\"\n",
    "clf = SVC(gamma=gamma0, C=C0)\n",
    "clf.fit(train_data,train_label)\n",
    "dfContour(clf, test_set)\n",
    "plt.title(\"Decision boundary with lowest test error: {}%\".format((1-accuracy_best)*100))\n",
    "df3D(clf, test_set)\n",
    "# clf.decision_function(Xtest)\n",
    "plt.show()\n",
    "\n",
    "\"\"\"Error plot for fixed γ\"\"\"\n",
    "test_err = []\n",
    "train_err = []\n",
    "start = np.log10(C0) - 3 #todo find values here\n",
    "end = np.log10(C0) + 3 #todo\n",
    "# following C are both the same\n",
    "C = np.logspace(start, end, num=100, endpoint=True, base=10)\n",
    "# C = np.power(10, np.linspace(start, end, num=100))\n",
    "plt.subplot(2,1,1)\n",
    "plt.plot(C,label= \"C\")\n",
    "plt.legend(loc='upper left', fontsize=15)\n",
    "plt.subplot(2,1,2)\n",
    "plt.plot(np.log10(C),label = \"log10(C)\")\n",
    "plt.legend(loc='upper left', fontsize=15)\n",
    "# plt.plot(C)\n",
    "plt.suptitle(\"C evenly spaced in log scale\", fontsize=15)\n",
    "plt.show()\n",
    "\n",
    "\n",
    "\n",
    "for c in C:\n",
    "    clf = SVC(gamma=gamma0,C=c)\n",
    "    clf.fit(train_data,train_label)\n",
    "    err = 1 - clf.score(train_data,train_label)\n",
    "    train_err.append(err)\n",
    "    err = 1 - clf.score(test_data, test_label)\n",
    "    test_err.append(err)\n",
    "\n",
    "plt.plot(np.log10(C),train_err,'b',linewidth=2,label=\"Train error\")\n",
    "plt.plot(np.log10(C),test_err,'g',linewidth=2,label='Test error')\n",
    "plt.axvline(np.log10(C0))\n",
    "plt.xlabel(\"log10(C)\",fontsize=15)\n",
    "plt.ylabel(\"Error(a.u.)\",fontsize=15)\n",
    "plt.legend(loc='upper right', fontsize=15)\n",
    "plt.title(\"Train and test error for γ: {:.4f}\".format(gamma0))\n",
    "plt.show()\n",
    "\n",
    "start = np.log10(C0) - 3\n",
    "end = np.log10(C0) + 3\n",
    "# C = np.logspace(start,end,num=7,endpoint=True,base=10)\n",
    "C = np.power(10, np.linspace(start, end, num=7)) #these two lines get same results\n",
    "\n",
    "for i,c in enumerate(C):\n",
    "    clf = SVC(gamma=gamma0,C=c)\n",
    "    clf.fit(train_data,train_label)\n",
    "    plt.subplot(4,2,i+1)\n",
    "    dfContour(clf, train_set)\n",
    "    plt.title(\"C = {}\".format(c))\n",
    "plt.suptitle(\"Decision function with varied C\")\n",
    "plt.tight_layout(pad=0.1, w_pad=0.5, h_pad=0.7)\n",
    "plt.show()\n",
    "\n",
    "\"\"\"Error plot for fixed C\"\"\"\n",
    "test_err = []\n",
    "train_err = []\n",
    "start = np.log10(gamma0) - 3\n",
    "end = np.log10(gamma0) + 3\n",
    "gamma = np.logspace(start, end, num=100, endpoint=True, base=10)\n",
    "for g in gamma:\n",
    "    clf = SVC(gamma=g,C=C0)\n",
    "    clf.fit(train_data,train_label)\n",
    "    err = 1 - clf.score(train_data,train_label)\n",
    "    train_err.append(err)\n",
    "    err = 1 - clf.score(test_data, test_label)\n",
    "    test_err.append(err)\n",
    "plt.plot(np.log10(gamma),train_err,'b',linewidth=2,label=\"Train error\")\n",
    "plt.plot(np.log10(gamma),test_err,'g',linewidth=2,label='Test error')\n",
    "plt.axvline(np.log10(gamma0))\n",
    "plt.xlabel(\"log10(γ)\",fontsize=15)\n",
    "plt.ylabel(\"Error(a.u.)\",fontsize=15)\n",
    "plt.legend(loc='upper left', fontsize=15)\n",
    "plt.title(\"Train and test error for C: {:.2f}\".format(C0))\n",
    "plt.show()\n",
    "\n",
    "\n",
    "start = np.log10(gamma0) - 3\n",
    "end = np.log10(gamma0) + 3\n",
    "gamma = np.logspace(start,end,num=7,endpoint=True,base=10)\n",
    "\n",
    "for i,g in enumerate(gamma):\n",
    "    clf = SVC(gamma=g,C=C0)\n",
    "    clf.fit(train_data,train_label)\n",
    "    plt.subplot(4,2,i+1)\n",
    "    dfContour(clf, train_set)\n",
    "    plt.title(\"γ = {:.4f}\".format(g))\n",
    "plt.suptitle(\"Decision function with varied γ\")\n",
    "plt.tight_layout(pad=0.1, w_pad=0.5, h_pad=0.7)\n",
    "plt.show()"
   ]
  },
  {
   "cell_type": "code",
   "execution_count": null,
   "metadata": {},
   "outputs": [],
   "source": [
    "#!/usr/bin/env python2\n",
    "# -*- coding: utf-8 -*-\n",
    "\"\"\"\n",
    "Created on Sat Jan 28 13:35:55 2017\n",
    "\n",
    "@author: anthonybonner\n",
    "\"\"\"\n",
    "\n",
    "from sklearn.svm import SVC\n",
    "from sklearn import datasets\n",
    "import matplotlib.pyplot as plt\n",
    "import numpy as np\n",
    "from matplotlib import cm\n",
    "from mpl_toolkits.mplot3d import Axes3D\n",
    "\n",
    "\n",
    "# plot the data points in red and blue (for 0 and 1, respectively).\n",
    "# then plot the contours of the decision function (of classifier clf)\n",
    "# and highlight the decision boundary in solid black.\n",
    "# If margins=1 then highlight the margins in dashed black\n",
    "\n",
    "def dfContour(clf, data, margins=0):\n",
    "    X, y = data\n",
    "    # plot the data\n",
    "    colors = np.array(['r', 'b'])\n",
    "    plt.scatter(X[:, 0], X[:, 1], color=colors[y], s=3)\n",
    "\n",
    "    # form a mesh/grid to cover the data\n",
    "    h = 0.02\n",
    "    x_min = X[:, 0].min() - .5\n",
    "    x_max = X[:, 0].max() + .5\n",
    "    y_min = X[:, 1].min() - .5\n",
    "    y_max = X[:, 1].max() + .5\n",
    "    xx, yy = np.meshgrid(np.arange(x_min, x_max, h),\n",
    "                         np.arange(y_min, y_max, h))\n",
    "    mesh = np.c_[xx.ravel(), yy.ravel()]\n",
    "\n",
    "    # evaluate the decision functrion at the grid points\n",
    "    Z = clf.decision_function(mesh)\n",
    "\n",
    "    # plot the contours of the decision function\n",
    "    Z = Z.reshape(xx.shape)\n",
    "    plt.contourf(xx, yy, Z, levels=[-4, -3, -2, -1, 0, 1, 2, 3, 4], cmap=cm.RdBu, alpha=0.5)\n",
    "\n",
    "    # draw the decision boundary in solid black\n",
    "    plt.contour(xx, yy, Z, levels=[0], colors='k', linestyles='solid')\n",
    "    if margins:\n",
    "        # draw the margins in dashed black\n",
    "        plt.contour(xx, yy, Z, levels=[-1, 1], colors='k', linestyles='dashed')\n",
    "\n",
    "\n",
    "# plot the decision function of classifier clf in 3D.\n",
    "# if Cflag=1, place a contour plot of the decision function beneath the 3D plot.\n",
    "# (Use data to determine the range of the axes)\n",
    "\n",
    "def df3D(clf, data, cFlag=1):\n",
    "    # form a mesh/grid to cover the data\n",
    "    h = 0.01\n",
    "    X, y = data\n",
    "    x_min = X[:, 0].min() - .5\n",
    "    x_max = X[:, 0].max() + .5\n",
    "    y_min = X[:, 1].min() - .5\n",
    "    y_max = X[:, 1].max() + .5\n",
    "    xx, yy = np.meshgrid(np.arange(x_min, x_max, h),\n",
    "                         np.arange(y_min, y_max, h))\n",
    "    mesh = np.c_[xx.ravel(), yy.ravel()]\n",
    "\n",
    "    # evaluate the decision functrion at the grid points\n",
    "    Z = clf.decision_function(mesh)\n",
    "    Z = -Z  # to improve the 3D plot for the Moons data set, negate Z\n",
    "\n",
    "    # plot the contours of the decision function\n",
    "    Z = Z.reshape(xx.shape)\n",
    "    plt.figure()\n",
    "    ax = plt.axes(projection='3d')\n",
    "    ax.plot_surface(xx, yy, Z, cmap=cm.RdBu, linewidth=0.2, edgecolor='k')\n",
    "\n",
    "    if cFlag == 1:\n",
    "        # display a contour plot of the decision function\n",
    "        Zmin = np.min(Z) - 1.0\n",
    "        ax.contourf(xx, yy, Z, cmap=cm.RdBu, offset=Zmin)\n",
    "        ax.set_zlim(bottom = Zmin)\n",
    "\n",
    "\n"
   ]
  }
 ],
 "metadata": {
  "kernelspec": {
   "display_name": "Python 3",
   "language": "python",
   "name": "python3"
  },
  "language_info": {
   "codemirror_mode": {
    "name": "ipython",
    "version": 3
   },
   "file_extension": ".py",
   "mimetype": "text/x-python",
   "name": "python",
   "nbconvert_exporter": "python",
   "pygments_lexer": "ipython3",
   "version": "3.6.8"
  }
 },
 "nbformat": 4,
 "nbformat_minor": 2
}
